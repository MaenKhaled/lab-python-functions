{
 "cells": [
  {
   "cell_type": "markdown",
   "id": "25d7736c-ba17-4aff-b6bb-66eba20fbf4e",
   "metadata": {},
   "source": [
    "# Lab | Functions"
   ]
  },
  {
   "cell_type": "markdown",
   "id": "0c581062-8967-4d93-b06e-62833222f930",
   "metadata": {
    "tags": []
   },
   "source": [
    "## Exercise: Managing Customer Orders with Functions\n",
    "\n",
    "In the previous exercise, you improved the code for managing customer orders by using loops and flow control. Now, let's take it a step further and refactor the code by introducing functions.\n",
    "\n",
    "Follow the steps below to complete the exercise:\n",
    "\n",
    "1. Define a function named `initialize_inventory` that takes `products` as a parameter. Inside the function, implement the code for initializing the inventory dictionary using a loop and user input.\n",
    "\n",
    "2. Define a function named `get_customer_orders` that takes no parameters. Inside the function, implement the code for prompting the user to enter the product names using a loop. The function should return the `customer_orders` set.\n",
    "\n",
    "3. Define a function named `update_inventory` that takes `customer_orders` and `inventory` as parameters. Inside the function, implement the code for updating the inventory dictionary based on the customer orders.\n",
    "\n",
    "4. Define a function named `calculate_order_statistics` that takes `customer_orders` and `products` as parameters. Inside the function, implement the code for calculating the order statistics (total products ordered, and percentage of unique products ordered). The function should return these values.\n",
    "\n",
    "5. Define a function named `print_order_statistics` that takes `order_statistics` as a parameter. Inside the function, implement the code for printing the order statistics.\n",
    "\n",
    "6. Define a function named `print_updated_inventory` that takes `inventory` as a parameter. Inside the function, implement the code for printing the updated inventory.\n",
    "\n",
    "7. Call the functions in the appropriate sequence to execute the program and manage customer orders.\n",
    "\n",
    "Hints for functions:\n",
    "\n",
    "- Consider the input parameters required for each function and their return values.\n",
    "- Utilize function parameters and return values to transfer data between functions.\n",
    "- Test your functions individually to ensure they work correctly.\n",
    "\n",
    "\n"
   ]
  },
  {
   "cell_type": "code",
   "execution_count": 369,
   "id": "e77b040c-05eb-4c46-84f0-3cb6f1154552",
   "metadata": {},
   "outputs": [],
   "source": [
    "# first function that intialize the inventory\n",
    "def initialize_inventory(products):\n",
    "    inventory = {}\n",
    "    for product in products:\n",
    "        value = int(input(f\"How many '{product}' do you want to order? Please enter only numbers: \"))\n",
    "        inventory[product] = value\n",
    "    return inventory"
   ]
  },
  {
   "cell_type": "code",
   "execution_count": 371,
   "id": "d81e3e7d-9b65-41f4-a704-7f8dce4bdffb",
   "metadata": {},
   "outputs": [
    {
     "name": "stdin",
     "output_type": "stream",
     "text": [
      "How many 'apple' do you want to order? Please enter only numbers:  3\n",
      "How many 'banana' do you want to order? Please enter only numbers:  4\n",
      "How many 'orange' do you want to order? Please enter only numbers:  5\n"
     ]
    },
    {
     "name": "stdout",
     "output_type": "stream",
     "text": [
      "{'apple': 3, 'banana': 4, 'orange': 5}\n"
     ]
    }
   ],
   "source": [
    "products = [\"apple\", \"banana\", \"orange\"]\n",
    "inventory = initialize_inventory(products)\n",
    "print(inventory)"
   ]
  },
  {
   "cell_type": "code",
   "execution_count": 373,
   "id": "dc54dd41-fd32-4c0c-b16c-81df14356087",
   "metadata": {},
   "outputs": [],
   "source": [
    "# Second function that registers the customer order \n",
    "def get_customer_orders():\n",
    "    customer_orders = set()\n",
    "    while True:\n",
    "        item = input(\"Please enter the name of the item you want to buy (or type 'done' to finish): \")\n",
    "        if item == 'done':\n",
    "            break\n",
    "        customer_orders.add(item)\n",
    "    return customer_orders\n"
   ]
  },
  {
   "cell_type": "code",
   "execution_count": 375,
   "id": "2eef4685-1aa9-4b35-b23d-b4d0135efe22",
   "metadata": {},
   "outputs": [
    {
     "name": "stdin",
     "output_type": "stream",
     "text": [
      "Please enter the name of the item you want to buy (or type 'done' to finish):  apple\n",
      "Please enter the name of the item you want to buy (or type 'done' to finish):  orange\n",
      "Please enter the name of the item you want to buy (or type 'done' to finish):  done\n"
     ]
    },
    {
     "name": "stdout",
     "output_type": "stream",
     "text": [
      "You ordered: {'apple', 'orange'}\n"
     ]
    }
   ],
   "source": [
    "customer_orders = get_customer_orders()\n",
    "print(\"You ordered:\", customer_orders)\n"
   ]
  },
  {
   "cell_type": "code",
   "execution_count": 377,
   "id": "001005f3-950c-4fc5-af45-ac79f69e6b14",
   "metadata": {},
   "outputs": [
    {
     "name": "stdout",
     "output_type": "stream",
     "text": [
      " the current status of the inventory\n",
      "\n",
      "{'apple': 2, 'banana': 4, 'orange': 4}\n"
     ]
    }
   ],
   "source": [
    "# Third function that updates the inventory and the Sixth function together\n",
    "def update_inventory (customer_orders, inventory):\n",
    "    # for product in customer_orders, decrease the amount of items in the inventory for given product\n",
    "    for product in customer_orders:\n",
    "        if product in inventory.keys() and inventory[product] > 0:\n",
    "            inventory[product] -= 1\n",
    "    return inventory\n",
    "update_inventory(customer_orders, inventory)\n",
    "def print_updated_inventory(inventory):\n",
    "    print(f\" the current status of the inventory\")\n",
    "    print()\n",
    "    print(inventory)\n",
    "print_updated_inventory(inventory)\n"
   ]
  },
  {
   "cell_type": "code",
   "execution_count": 379,
   "id": "80bc3144-3bde-4faa-bcfb-e62ddfd2e06e",
   "metadata": {},
   "outputs": [
    {
     "data": {
      "text/plain": [
       "('total products ordered are 2',\n",
       " 'percentage of unique products ordered is 66.67 %')"
      ]
     },
     "execution_count": 379,
     "metadata": {},
     "output_type": "execute_result"
    }
   ],
   "source": [
    "# Fourth function that claculate few statistics\n",
    "def calculate_order_statistics (customer_orders, products):\n",
    "   total_products_ordered = len (customer_orders)\n",
    "   percentage_of_unique_products_ordered = round(len (customer_orders)/ len (products) * 100,2)\n",
    "   return (f\"total products ordered are {total_products_ordered}\", f\"percentage of unique products ordered is {percentage_of_unique_products_ordered} %\")\n",
    "calculate_order_statistics (customer_orders, products) "
   ]
  },
  {
   "cell_type": "code",
   "execution_count": 381,
   "id": "f5df0849-c8b1-4f81-9f0d-267caa33718f",
   "metadata": {},
   "outputs": [
    {
     "name": "stdout",
     "output_type": "stream",
     "text": [
      "Order statistics for today are:\n",
      "\n",
      "Total products ordered are 2\n",
      "Percentage of unique products ordered is 66.67 %\n"
     ]
    }
   ],
   "source": [
    "# Fifth function that prints out the statistics.\n",
    "# Note1: it runs together with the function of statistics calculations to avoid contradictions between local variables and global variables.\n",
    "# Note2: Here order_statistics is a global variable\n",
    "def calculate_order_statistics (customer_orders, products):\n",
    "   total_products_ordered = len (customer_orders)\n",
    "   percentage_of_unique_products_ordered = round(len (customer_orders)/ len (products) * 100,2)\n",
    "   return (total_products_ordered, percentage_of_unique_products_ordered)\n",
    " \n",
    "def print_order_statistics (order_statistics):\n",
    "        print (f\"Order statistics for today are:\")\n",
    "        print ()\n",
    "        print (f\"Total products ordered are {order_statistics[0]}\")\n",
    "        print (f\"Percentage of unique products ordered is {order_statistics[1]} %\")\n",
    "order_statistics=calculate_order_statistics (customer_orders, products)\n",
    "print_order_statistics (order_statistics)    "
   ]
  },
  {
   "cell_type": "code",
   "execution_count": null,
   "id": "a88a2a03-aad3-4981-9b64-2edc2fda62f4",
   "metadata": {},
   "outputs": [],
   "source": []
  }
 ],
 "metadata": {
  "kernelspec": {
   "display_name": "Python [conda env:base] *",
   "language": "python",
   "name": "conda-base-py"
  },
  "language_info": {
   "codemirror_mode": {
    "name": "ipython",
    "version": 3
   },
   "file_extension": ".py",
   "mimetype": "text/x-python",
   "name": "python",
   "nbconvert_exporter": "python",
   "pygments_lexer": "ipython3",
   "version": "3.12.7"
  }
 },
 "nbformat": 4,
 "nbformat_minor": 5
}
